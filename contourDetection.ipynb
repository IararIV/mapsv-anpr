{
 "cells": [
  {
   "cell_type": "code",
   "execution_count": 1,
   "metadata": {},
   "outputs": [],
   "source": [
    "# dependences\n",
    "import cv2\n",
    "import matplotlib.pyplot as plt\n",
    "from matplotlib.pyplot import figure\n",
    "import os\n",
    "import numpy as np"
   ]
  },
  {
   "cell_type": "code",
   "execution_count": 2,
   "metadata": {},
   "outputs": [],
   "source": [
    "def process(img):\n",
    "    # increase contrast\n",
    "    # alpha = 1.5 # Contrast control (1.0-3.0)\n",
    "    # beta = 0 # Brightness control (0-100)\n",
    "    # img = cv2.convertScaleAbs(img, alpha=alpha, beta=beta)\n",
    "\n",
    "    #process colours\n",
    "    gray_image = cv2.cvtColor(img, cv2.COLOR_BGR2GRAY)\n",
    "    #gray_image = cv2.blur(gray_image,(3,3))\n",
    "    \n",
    "    #find edges\n",
    "    edged = cv2.Canny(gray_image, 30, 200) \n",
    "    cnts,new = cv2.findContours(edged.copy(), cv2.RETR_LIST, cv2.CHAIN_APPROX_SIMPLE)\n",
    "    cnts = sorted(cnts, key = cv2.contourArea, reverse = True) [:30]\n",
    "    edged_image = img.copy()\n",
    "    cv2.drawContours(edged_image,cnts,-1,(0,255,0),3)\n",
    "    \n",
    "    filtered_edged_image = img.copy()\n",
    "    #filter contours\n",
    "\n",
    "    min_ratio = 1000000\n",
    "    min_ratio_cnt = 0\n",
    "    real_ratio = 4.7\n",
    "    for c in cnts:\n",
    "        area = cv2.contourArea(c)\n",
    "        x,y,w,h = cv2.boundingRect(c)\n",
    "        epsilon = 0.09*cv2.arcLength(c,True)\n",
    "        approx = cv2.approxPolyDP(c,epsilon,True)\n",
    "        aspect_ratio = float(w)/h\n",
    "        \n",
    "        ratio_diff = abs(aspect_ratio - real_ratio)\n",
    "        if ratio_diff < min_ratio and len(approx)==4:\n",
    "            min_ratio = ratio_diff\n",
    "            min_ratio_cnt = c\n",
    "    \n",
    "    if type(min_ratio_cnt) != int:\n",
    "        cv2.drawContours(filtered_edged_image,[min_ratio_cnt],-1,(0,255,0),3)\n",
    "    return gray_image, edged_image,filtered_edged_image"
   ]
  },
  {
   "cell_type": "code",
   "execution_count": null,
   "metadata": {},
   "outputs": [],
   "source": [
    "fig, axs = plt.subplots(len(os.listdir(\"fotos\")), 2, sharex=True, sharey=True, figsize=(25, 150))\n",
    "\n",
    "for i,filename in enumerate(os.listdir(\"fotos\")):\n",
    "    if filename[-3:] == \"jpg\":\n",
    "        print(filename)\n",
    "        image = cv2.imread('fotos/'+filename)\n",
    "        gray_image, edged_image,filtered_edged_image = process(image)\n",
    "        # try:\n",
    "        #     Max = cnt.max(axis=0)\n",
    "        #     #print(Max)\n",
    "        #     cv2.circle(image_contours, Max, radius=100, color=(255,0,0), thickness=-1)\n",
    "        #     Min = cnt.min(axis=0)\n",
    "        #     cv2.circle(image_contours, Min, radius=100, color=(255,0,0), thickness=-1)\n",
    "        # except:\n",
    "        #     pass\n",
    "        axs[i][0].imshow(edged_image)\n",
    "        axs[i][1].imshow(filtered_edged_image)\n",
    "\n",
    "# image = cv2.imread('fotos/'+\"IMG_4283.jpg\")\n",
    "# image_contours,cnt = process(image)\n",
    "# print(cnt.max(axis=0))\n",
    "# print(cnt.min(axis=0))\n",
    "# plt.imshow(image_contours)"
   ]
  }
 ],
 "metadata": {
  "kernelspec": {
   "display_name": "Python 3.10.6 64-bit",
   "language": "python",
   "name": "python3"
  },
  "language_info": {
   "codemirror_mode": {
    "name": "ipython",
    "version": 3
   },
   "file_extension": ".py",
   "mimetype": "text/x-python",
   "name": "python",
   "nbconvert_exporter": "python",
   "pygments_lexer": "ipython3",
   "version": "3.10.6"
  },
  "orig_nbformat": 4,
  "vscode": {
   "interpreter": {
    "hash": "916dbcbb3f70747c44a77c7bcd40155683ae19c65e1c03b4aa3499c5328201f1"
   }
  }
 },
 "nbformat": 4,
 "nbformat_minor": 2
}
