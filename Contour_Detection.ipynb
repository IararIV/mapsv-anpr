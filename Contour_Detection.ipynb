{
 "cells": [
  {
   "cell_type": "code",
   "execution_count": 1,
   "metadata": {},
   "outputs": [],
   "source": [
    "# dependences\n",
    "import cv2"
   ]
  },
  {
   "cell_type": "code",
   "execution_count": 3,
   "metadata": {},
   "outputs": [],
   "source": [
    "def colourProcessImage(img):\n",
    "    gray_image = cv2.cvtColor(img, cv2.COLOR_BGR2GRAY)\n",
    "    gray_image = cv2.bilateralFilter(gray_image, 11, 17, 17)\n",
    "    edged = cv2.Canny(gray_image, 30, 200) \n",
    "    return gray_image\n",
    "\n",
    "def findContours(img):\n",
    "    edged = cv2.Canny(img, 30, 200) \n",
    "    cnts,new = cv2.findContours(edged.copy(), cv2.RETR_LIST, cv2.CHAIN_APPROX_SIMPLE)\n",
    "    image1=img.copy()\n",
    "    cv2.drawContours(image1,cnts,-1,(0,255,0),3)\n",
    "    return image1,cnts\n",
    "\n",
    "def sortContours(cnts,image):\n",
    "    cnts = sorted(cnts, key = cv2.contourArea, reverse = True) [:30]\n",
    "    screenCnt = None\n",
    "    image1 = image.copy()\n",
    "    cv2.drawContours(image1,cnts,-1,(0,255,0),3)\n",
    "    return image1"
   ]
  },
  {
   "cell_type": "code",
   "execution_count": 4,
   "metadata": {},
   "outputs": [
    {
     "name": "stderr",
     "output_type": "stream",
     "text": [
      "[ WARN:0@202.343] global /io/opencv/modules/imgcodecs/src/loadsave.cpp (239) findDecoder imread_('/fotos/IMG20220919170133.jpg'): can't open/read file: check file path/integrity\n"
     ]
    },
    {
     "ename": "error",
     "evalue": "OpenCV(4.6.0) /io/opencv/modules/imgproc/src/color.cpp:182: error: (-215:Assertion failed) !_src.empty() in function 'cvtColor'\n",
     "output_type": "error",
     "traceback": [
      "\u001b[0;31m---------------------------------------------------------------------------\u001b[0m",
      "\u001b[0;31merror\u001b[0m                                     Traceback (most recent call last)",
      "\u001b[1;32m/home/mat/Desktop/4.1/MAPSIV/mapsv-anpr_Mateo/Contour_Detection.ipynb Cell 3\u001b[0m in \u001b[0;36m<cell line: 2>\u001b[0;34m()\u001b[0m\n\u001b[1;32m      <a href='vscode-notebook-cell:/home/mat/Desktop/4.1/MAPSIV/mapsv-anpr_Mateo/Contour_Detection.ipynb#W3sZmlsZQ%3D%3D?line=0'>1</a>\u001b[0m image \u001b[39m=\u001b[39m cv2\u001b[39m.\u001b[39mimread(\u001b[39m'\u001b[39m\u001b[39m/fotos/IMG20220919170133.jpg\u001b[39m\u001b[39m'\u001b[39m)\n\u001b[0;32m----> <a href='vscode-notebook-cell:/home/mat/Desktop/4.1/MAPSIV/mapsv-anpr_Mateo/Contour_Detection.ipynb#W3sZmlsZQ%3D%3D?line=1'>2</a>\u001b[0m colour_processed_image \u001b[39m=\u001b[39m colourProcessImage(image)\n\u001b[1;32m      <a href='vscode-notebook-cell:/home/mat/Desktop/4.1/MAPSIV/mapsv-anpr_Mateo/Contour_Detection.ipynb#W3sZmlsZQ%3D%3D?line=2'>3</a>\u001b[0m contours_image,cnts \u001b[39m=\u001b[39m findContours(colour_processed_image)\n\u001b[1;32m      <a href='vscode-notebook-cell:/home/mat/Desktop/4.1/MAPSIV/mapsv-anpr_Mateo/Contour_Detection.ipynb#W3sZmlsZQ%3D%3D?line=3'>4</a>\u001b[0m sorted_contours_image \u001b[39m=\u001b[39m sortContours(cnts)\n",
      "\u001b[1;32m/home/mat/Desktop/4.1/MAPSIV/mapsv-anpr_Mateo/Contour_Detection.ipynb Cell 3\u001b[0m in \u001b[0;36mcolourProcessImage\u001b[0;34m(img)\u001b[0m\n\u001b[1;32m      <a href='vscode-notebook-cell:/home/mat/Desktop/4.1/MAPSIV/mapsv-anpr_Mateo/Contour_Detection.ipynb#W3sZmlsZQ%3D%3D?line=0'>1</a>\u001b[0m \u001b[39mdef\u001b[39;00m \u001b[39mcolourProcessImage\u001b[39m(img):\n\u001b[0;32m----> <a href='vscode-notebook-cell:/home/mat/Desktop/4.1/MAPSIV/mapsv-anpr_Mateo/Contour_Detection.ipynb#W3sZmlsZQ%3D%3D?line=1'>2</a>\u001b[0m     gray_image \u001b[39m=\u001b[39m cv2\u001b[39m.\u001b[39;49mcvtColor(img, cv2\u001b[39m.\u001b[39;49mCOLOR_BGR2GRAY)\n\u001b[1;32m      <a href='vscode-notebook-cell:/home/mat/Desktop/4.1/MAPSIV/mapsv-anpr_Mateo/Contour_Detection.ipynb#W3sZmlsZQ%3D%3D?line=2'>3</a>\u001b[0m     gray_image \u001b[39m=\u001b[39m cv2\u001b[39m.\u001b[39mbilateralFilter(gray_image, \u001b[39m11\u001b[39m, \u001b[39m17\u001b[39m, \u001b[39m17\u001b[39m)\n\u001b[1;32m      <a href='vscode-notebook-cell:/home/mat/Desktop/4.1/MAPSIV/mapsv-anpr_Mateo/Contour_Detection.ipynb#W3sZmlsZQ%3D%3D?line=3'>4</a>\u001b[0m     edged \u001b[39m=\u001b[39m cv2\u001b[39m.\u001b[39mCanny(gray_image, \u001b[39m30\u001b[39m, \u001b[39m200\u001b[39m) \n",
      "\u001b[0;31merror\u001b[0m: OpenCV(4.6.0) /io/opencv/modules/imgproc/src/color.cpp:182: error: (-215:Assertion failed) !_src.empty() in function 'cvtColor'\n"
     ]
    }
   ],
   "source": [
    "image = cv2.imread('/fotos/IMG20220919170133.jpg')\n",
    "colour_processed_image = colourProcessImage(image)\n",
    "contours_image,cnts = findContours(colour_processed_image)\n",
    "sorted_contours_image = sortContours(cnts)\n",
    "cv2.imshow(sorted_contours_image)"
   ]
  },
  {
   "cell_type": "code",
   "execution_count": null,
   "metadata": {},
   "outputs": [],
   "source": []
  }
 ],
 "metadata": {
  "kernelspec": {
   "display_name": "Python 3.10.4 64-bit",
   "language": "python",
   "name": "python3"
  },
  "language_info": {
   "codemirror_mode": {
    "name": "ipython",
    "version": 3
   },
   "file_extension": ".py",
   "mimetype": "text/x-python",
   "name": "python",
   "nbconvert_exporter": "python",
   "pygments_lexer": "ipython3",
   "version": "3.10.4"
  },
  "orig_nbformat": 4,
  "vscode": {
   "interpreter": {
    "hash": "916dbcbb3f70747c44a77c7bcd40155683ae19c65e1c03b4aa3499c5328201f1"
   }
  }
 },
 "nbformat": 4,
 "nbformat_minor": 2
}
